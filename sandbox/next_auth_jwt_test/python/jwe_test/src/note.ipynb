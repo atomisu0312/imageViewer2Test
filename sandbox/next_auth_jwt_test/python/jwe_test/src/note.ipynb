{
 "cells": [
  {
   "cell_type": "markdown",
   "metadata": {},
   "source": [
    "# mediumの記事から持ってきたコード\n",
    "\n",
    "URLはこちら：https://medium.com/@noahyoungs/decoding-auth-js-jwts-in-python-reverse-engineering-02deea5ce393"
   ]
  },
  {
   "cell_type": "code",
   "execution_count": 3,
   "metadata": {},
   "outputs": [],
   "source": [
    "import json\n",
    "import os\n",
    "from typing import Any, Dict\n",
    "from cryptography.hazmat.primitives.kdf.hkdf import HKDF\n",
    "from cryptography.hazmat.primitives import hashes\n",
    "from jose import jwe"
   ]
  },
  {
   "cell_type": "code",
   "execution_count": 52,
   "metadata": {},
   "outputs": [],
   "source": [
    "def get_derived_encryption_key(secret: str, salt: str) -> bytes:\n",
    "    \"\"\"\n",
    "    Derives a 64-byte encryption key using HKDF for A256CBC-HS512.\n",
    "    \n",
    "    Args:\n",
    "    secret (str): The secret key material (Auth.js secret).\n",
    "    salt (str): The salt to use in key derivation, typically the name of the cookie holding the JWT.\n",
    "    \n",
    "    Returns:\n",
    "    bytes: A 64-byte derived key.\n",
    "    \"\"\"\n",
    "    # Define the salt for HKDF\n",
    "    salt_bytes = salt.encode('utf-8')\n",
    "\n",
    "    # Correct info string format with salt in parentheses\n",
    "    info_string = f\"Auth.js Generated Encryption Key ({salt})\".encode('utf-8')\n",
    "\n",
    "    # Derive a 64-byte key using HKDF for A256CBC-HS512\n",
    "    hkdf = HKDF(\n",
    "        algorithm=hashes.SHA256(),\n",
    "        length=64,  # 64 bytes for A256CBC-HS512\n",
    "        salt=salt_bytes,\n",
    "        info=info_string\n",
    "    )\n",
    "\n",
    "    # Derive the key using the provided secret\n",
    "    key = hkdf.derive(secret.encode('utf-8'))\n",
    "    # Check if the derived key length is 64 bytes (512 bits)\n",
    "    if len(key) != 64:\n",
    "        raise ValueError(\"Derived key length is incorrect. Expected 64 bytes, got {} bytes.\".format(len(key)))\n",
    "\n",
    "    return key"
   ]
  },
  {
   "cell_type": "code",
   "execution_count": 53,
   "metadata": {},
   "outputs": [],
   "source": [
    "def decode_authjs_session(token: str) -> Dict[str, Any]:\n",
    "    print('DECODING:', token)\n",
    "    \n",
    "    # Fetch the Auth.js secret and salt from the environment\n",
    "    authjs_secret = \"secret\"\n",
    "    authjs_salt = \"saltdesu\"\n",
    "    \n",
    "    if not authjs_secret:\n",
    "        raise ValueError(\"AUTHJS_SECRET environment variable is not set.\")\n",
    "    if not authjs_salt:\n",
    "        raise ValueError(\"AUTHJS_SALT environment variable is not set.\")\n",
    "    \n",
    "    # Derive the encryption key using the secret and salt\n",
    "    key = get_derived_encryption_key(authjs_secret, authjs_salt)\n",
    "    \n",
    "    # Decrypt the token using the derived key\n",
    "    try:\n",
    "        data = jwe.decrypt(token, key)\n",
    "\n",
    "        # Parse the decrypted data into JSON\n",
    "        decoded_token = json.loads(data.decode('utf-8'))\n",
    "        return decoded_token\n",
    "    except Exception as e:\n",
    "        print(f\"Error during decryption: {e}\")\n",
    "        raise e"
   ]
  },
  {
   "cell_type": "code",
   "execution_count": 54,
   "metadata": {},
   "outputs": [
    {
     "name": "stdout",
     "output_type": "stream",
     "text": [
      "DECODING: eyJhbGciOiJkaXIiLCJlbmMiOiJBMjU2Q0JDLUhTNTEyIiwia2lkIjoiY1B4SGx3MXZGOXA1UXktRzlqSlVsVjBvZ1FZNTNPbzV1UTZwNHlNX0lFcXhnYlNacEJobjVBVnU5bmZMWmJxU0RaN0JMMU5KOFU3SnFfX0pVSHM2eGcifQ..UwJRcX9c9YLlH0_yJww7YQ.IEwxWszN5EkzWnfavqQTpOkviKu5V6PY7U4yzB-ZtP3AlF5TZr8yfO6zpN18Vr7h3ck48ZMVOdqArHL_GZtykzjxRQydSY5J6SDz_eMrWbS_xkoEiKjTUF98IlwgzUmdSRrSt9uA7igrF22Z32Ij7g.natRuwogAWvPhSjCtPicZhRuID72x9khE83RLTK98J8\n",
      "Decoded Token: {'sample': 'datumaa', 'iat': 1727972621, 'exp': 1730564621, 'jti': 'e2a09441-de66-4500-824a-e4064b251f72'}\n"
     ]
    }
   ],
   "source": [
    "test_token = \"eyJhbGciOiJkaXIiLCJlbmMiOiJBMjU2Q0JDLUhTNTEyIiwia2lkIjoiY1B4SGx3MXZGOXA1UXktRzlqSlVsVjBvZ1FZNTNPbzV1UTZwNHlNX0lFcXhnYlNacEJobjVBVnU5bmZMWmJxU0RaN0JMMU5KOFU3SnFfX0pVSHM2eGcifQ..UwJRcX9c9YLlH0_yJww7YQ.IEwxWszN5EkzWnfavqQTpOkviKu5V6PY7U4yzB-ZtP3AlF5TZr8yfO6zpN18Vr7h3ck48ZMVOdqArHL_GZtykzjxRQydSY5J6SDz_eMrWbS_xkoEiKjTUF98IlwgzUmdSRrSt9uA7igrF22Z32Ij7g.natRuwogAWvPhSjCtPicZhRuID72x9khE83RLTK98J8\"\n",
    "try:\n",
    "    decoded_token = decode_authjs_session(test_token)\n",
    "    print(f\"Decoded Token: {decoded_token}\")\n",
    "except Exception as e:\n",
    "    print(f\"Token decoding failed: {e}\")"
   ]
  },
  {
   "cell_type": "code",
   "execution_count": 55,
   "metadata": {},
   "outputs": [],
   "source": [
    "def encode_authjs_session(obj: Dict[str, Any]) -> str:\n",
    "    print('ENCODING:', obj)\n",
    "    \n",
    "    # Fetch the Auth.js secret and salt from the environment\n",
    "    authjs_secret = \"secret\"\n",
    "    authjs_salt = \"saltdesu\"\n",
    "    \n",
    "    if not authjs_secret:\n",
    "        raise ValueError(\"AUTHJS_SECRET environment variable is not set.\")\n",
    "    if not authjs_salt:\n",
    "        raise ValueError(\"AUTHJS_SALT environment variable is not set.\")\n",
    "    \n",
    "    # Derive the encryption key using the secret and salt\n",
    "    key = get_derived_encryption_key(authjs_secret, authjs_salt)\n",
    "\n",
    "  \n",
    "    # Decrypt the token using the derived key\n",
    "    try:\n",
    "        data = jwe.encrypt(json.dumps(obj), key, algorithm='dir', encryption='A256CBC-HS512')\n",
    "\n",
    "        # Parse the decrypted data into JSON\n",
    "        #encoded_token = data.encode('utf-8')\n",
    "        return data.decode('utf-8')\n",
    "    except Exception as e:\n",
    "        print(f\"Error during encryption: {e}\")\n",
    "        raise e"
   ]
  },
  {
   "cell_type": "code",
   "execution_count": 63,
   "metadata": {},
   "outputs": [
    {
     "name": "stdout",
     "output_type": "stream",
     "text": [
      "ENCODING: {'himei': [345, 593]}\n",
      "encoded Token: eyJhbGciOiJkaXIiLCJlbmMiOiJBMjU2Q0JDLUhTNTEyIn0..RP0qR5PJKWB6KyabUqZRXg.bjOZK6zDbW2yj9ZculEqRz93eDaRPiJdFpGCoJW72_k.0bIME9d8nvlyli6WLWiUk7LUlini-SzSS3262I38YaQ\n",
      "DECODING: eyJhbGciOiJkaXIiLCJlbmMiOiJBMjU2Q0JDLUhTNTEyIn0..RP0qR5PJKWB6KyabUqZRXg.bjOZK6zDbW2yj9ZculEqRz93eDaRPiJdFpGCoJW72_k.0bIME9d8nvlyli6WLWiUk7LUlini-SzSS3262I38YaQ\n",
      "Decoded Token: {'himei': [345, 593]}\n"
     ]
    }
   ],
   "source": [
    "obj = {\"himei\": [345, 593]}\n",
    "\n",
    "try:\n",
    "    encoded_token = encode_authjs_session(obj)\n",
    "    print(f\"encoded Token: {encoded_token}\")\n",
    "    decoded = decode_authjs_session(encoded_token)\n",
    "    print(f\"Decoded Token: {decoded}\")\n",
    "except Exception as e:\n",
    "    print(f\"Token encoding failed: {e}\")"
   ]
  }
 ],
 "metadata": {
  "kernelspec": {
   "display_name": ".venv",
   "language": "python",
   "name": "python3"
  },
  "language_info": {
   "codemirror_mode": {
    "name": "ipython",
    "version": 3
   },
   "file_extension": ".py",
   "mimetype": "text/x-python",
   "name": "python",
   "nbconvert_exporter": "python",
   "pygments_lexer": "ipython3",
   "version": "3.12.0"
  }
 },
 "nbformat": 4,
 "nbformat_minor": 2
}
